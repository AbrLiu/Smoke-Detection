{
 "cells": [
  {
   "cell_type": "markdown",
   "metadata": {},
   "source": [
    "## 导入TensorFlow等"
   ]
  },
  {
   "cell_type": "code",
   "execution_count": 1,
   "metadata": {
    "ExecuteTime": {
     "end_time": "2018-02-01T04:59:02.931456Z",
     "start_time": "2018-02-01T04:59:02.421035Z"
    },
    "nbpresent": {
     "id": "35a12da4-0c55-40d8-b81a-55e8ac4ca4fd"
    }
   },
   "outputs": [],
   "source": [
    "import tensorflow as tf\n",
    "import numpy as np\n",
    "# import pandas as pd\n",
    "\n",
    "# import matplotlib.pyplot as plt\n",
    "# %matplotlib inline"
   ]
  },
  {
   "cell_type": "markdown",
   "metadata": {},
   "source": [
    "## 定义神经网络函数"
   ]
  },
  {
   "cell_type": "code",
   "execution_count": 2,
   "metadata": {
    "ExecuteTime": {
     "end_time": "2018-02-01T05:01:14.009152Z",
     "start_time": "2018-02-01T05:01:13.994497Z"
    }
   },
   "outputs": [],
   "source": [
    "def add_layer(inputs, in_size, out_size, num=0, activation_function=None):\n",
    "    # add one more layer and return the output of this layer\n",
    "    # 区别：大框架，定义层 layer，里面有 小部件\n",
    "    \n",
    "    with tf.name_scope('layer'):\n",
    "        # 区别：小部件\n",
    "        with tf.name_scope('weights'):\n",
    "            Weights = tf.Variable(tf.random_normal([in_size, out_size]), name='Weights' + str(num))\n",
    "        with tf.name_scope('biases'):\n",
    "            biases = tf.Variable(tf.zeros([1, out_size]) + 0.1, name='bias' + str(num))\n",
    "        with tf.name_scope('Wx_plus_b'):\n",
    "            Wx_plus_b = tf.add(tf.matmul(inputs, Weights), biases, name='We_plus_b' + str(num))\n",
    "        if activation_function is None:\n",
    "            outputs = Wx_plus_b\n",
    "        else:\n",
    "            outputs = activation_function(Wx_plus_b, name='activation_function' + str(num))\n",
    "        return outputs"
   ]
  },
  {
   "cell_type": "markdown",
   "metadata": {},
   "source": [
    "## 烟雾检测"
   ]
  },
  {
   "cell_type": "code",
   "execution_count": 3,
   "metadata": {
    "ExecuteTime": {
     "end_time": "2018-02-01T05:01:16.155335Z",
     "start_time": "2018-02-01T05:01:16.115003Z"
    }
   },
   "outputs": [],
   "source": [
    "import cv2"
   ]
  },
  {
   "cell_type": "markdown",
   "metadata": {},
   "source": [
    "### 读取数据"
   ]
  },
  {
   "cell_type": "code",
   "execution_count": 4,
   "metadata": {
    "ExecuteTime": {
     "end_time": "2018-02-01T05:01:26.787752Z",
     "start_time": "2018-02-01T05:01:17.068453Z"
    }
   },
   "outputs": [],
   "source": [
    "training_set = [np.reshape(cv2.cvtColor(cv2.resize(cv2.imread('test8/%06d.png' % i), (256, 256)), cv2.COLOR_BGR2GRAY), (1, 256 * 256)) for i in range(1, 401)]\n",
    "training_set.extend([np.reshape(cv2.cvtColor(cv2.resize(cv2.imread('test8/%06d.png' % i), (256, 256)), cv2.COLOR_BGR2GRAY), (1, 256 * 256)) for i in range(501, 901)])"
   ]
  },
  {
   "cell_type": "code",
   "execution_count": 5,
   "metadata": {
    "ExecuteTime": {
     "end_time": "2018-02-01T05:01:26.962085Z",
     "start_time": "2018-02-01T05:01:26.948389Z"
    }
   },
   "outputs": [],
   "source": [
    "training_set_nparray = np.vstack(training_set)"
   ]
  },
  {
   "cell_type": "code",
   "execution_count": 6,
   "metadata": {
    "ExecuteTime": {
     "end_time": "2018-02-01T05:01:27.115037Z",
     "start_time": "2018-02-01T05:01:27.111776Z"
    }
   },
   "outputs": [],
   "source": [
    "training_label = np.array([[1.0 if i < 400 else 0.0] for i in range(800)])"
   ]
  },
  {
   "cell_type": "markdown",
   "metadata": {},
   "source": [
    "### 定义输入输出"
   ]
  },
  {
   "cell_type": "code",
   "execution_count": 7,
   "metadata": {
    "ExecuteTime": {
     "end_time": "2018-02-01T05:01:27.262219Z",
     "start_time": "2018-02-01T05:01:27.246082Z"
    }
   },
   "outputs": [],
   "source": [
    "with tf.name_scope('inputs'):\n",
    "    xs = tf.placeholder(tf.float32, [None, 256 * 256], name='xs')\n",
    "    ys = tf.placeholder(tf.float32, [None, 1], name='ys')"
   ]
  },
  {
   "cell_type": "markdown",
   "metadata": {},
   "source": [
    "### 定义隐层和输出层"
   ]
  },
  {
   "cell_type": "code",
   "execution_count": 8,
   "metadata": {
    "ExecuteTime": {
     "end_time": "2018-02-01T05:01:27.414383Z",
     "start_time": "2018-02-01T05:01:27.403694Z"
    }
   },
   "outputs": [],
   "source": [
    "layer1 = add_layer(xs, 256 * 256, 1024, 1, activation_function=tf.nn.sigmoid)"
   ]
  },
  {
   "cell_type": "code",
   "execution_count": 9,
   "metadata": {
    "ExecuteTime": {
     "end_time": "2018-02-01T05:01:27.565092Z",
     "start_time": "2018-02-01T05:01:27.555477Z"
    }
   },
   "outputs": [],
   "source": [
    "prediction = add_layer(layer1, 1024, 1, 2, activation_function=tf.nn.sigmoid)"
   ]
  },
  {
   "cell_type": "markdown",
   "metadata": {},
   "source": [
    "### 定义损失函数"
   ]
  },
  {
   "cell_type": "code",
   "execution_count": 10,
   "metadata": {
    "ExecuteTime": {
     "end_time": "2018-02-01T05:01:27.716788Z",
     "start_time": "2018-02-01T05:01:27.711237Z"
    }
   },
   "outputs": [],
   "source": [
    "with tf.name_scope('loss'):\n",
    "    loss = tf.reduce_mean(tf.reduce_sum(tf.square(ys - prediction), reduction_indices=[1]))"
   ]
  },
  {
   "cell_type": "markdown",
   "metadata": {},
   "source": [
    "### 使用全局梯度下降函数"
   ]
  },
  {
   "cell_type": "code",
   "execution_count": 11,
   "metadata": {
    "ExecuteTime": {
     "end_time": "2018-02-01T05:01:27.984286Z",
     "start_time": "2018-02-01T05:01:27.931861Z"
    }
   },
   "outputs": [],
   "source": [
    "with tf.name_scope('train'):\n",
    "    train_step = tf.train.GradientDescentOptimizer(1).minimize(loss)\n",
    "# train_step = tf.train.AdamOptimizer().minimize(loss)"
   ]
  },
  {
   "cell_type": "code",
   "execution_count": 12,
   "metadata": {
    "ExecuteTime": {
     "end_time": "2018-02-01T05:01:28.808407Z",
     "start_time": "2018-02-01T05:01:28.691983Z"
    }
   },
   "outputs": [],
   "source": [
    "smoke_sess = tf.Session(config=tf.ConfigProto(log_device_placement=True))"
   ]
  },
  {
   "cell_type": "code",
   "execution_count": 13,
   "metadata": {
    "ExecuteTime": {
     "end_time": "2018-02-01T05:01:29.345658Z",
     "start_time": "2018-02-01T05:01:29.298872Z"
    }
   },
   "outputs": [],
   "source": [
    "writer = tf.summary.FileWriter(\"logs/\", smoke_sess.graph)"
   ]
  },
  {
   "cell_type": "markdown",
   "metadata": {},
   "source": [
    "### 初始化变量"
   ]
  },
  {
   "cell_type": "code",
   "execution_count": 14,
   "metadata": {
    "ExecuteTime": {
     "end_time": "2018-02-01T05:02:07.537374Z",
     "start_time": "2018-02-01T05:01:30.033525Z"
    }
   },
   "outputs": [],
   "source": [
    "smoke_sess.run(tf.global_variables_initializer())"
   ]
  },
  {
   "cell_type": "markdown",
   "metadata": {},
   "source": [
    "### 训练模型"
   ]
  },
  {
   "cell_type": "code",
   "execution_count": 15,
   "metadata": {
    "ExecuteTime": {
     "end_time": "2018-02-01T05:08:44.287302Z",
     "start_time": "2018-02-01T05:02:11.194006Z"
    },
    "scrolled": true
   },
   "outputs": [
    {
     "name": "stdout",
     "output_type": "stream",
     "text": [
      "0 0.449552\n",
      "50 0.391568\n",
      "100 0.346161\n",
      "150 0.300565\n",
      "200 0.202795\n",
      "250 0.163603\n",
      "300 0.142052\n",
      "350 0.128761\n",
      "400 0.117872\n",
      "450 0.111243\n",
      "500 0.142165\n",
      "550 0.0958358\n",
      "600 0.0974314\n",
      "650 0.0927058\n",
      "700 0.0852759\n",
      "750 0.0983689\n",
      "800 0.0765918\n",
      "850 0.13048\n",
      "900 0.0695064\n",
      "950 0.067202\n"
     ]
    }
   ],
   "source": [
    "for i in range(1000):\n",
    "    smoke_sess.run(train_step, feed_dict={xs: training_set_nparray, ys: training_label})\n",
    "    if i % 50 == 0:\n",
    "        print(i, smoke_sess.run(loss, feed_dict={xs: training_set_nparray, ys: training_label}))"
   ]
  },
  {
   "cell_type": "markdown",
   "metadata": {},
   "source": [
    "### 在训练集上的结果"
   ]
  },
  {
   "cell_type": "code",
   "execution_count": 16,
   "metadata": {
    "ExecuteTime": {
     "end_time": "2018-02-01T05:09:30.679933Z",
     "start_time": "2018-02-01T05:09:30.490966Z"
    }
   },
   "outputs": [],
   "source": [
    "training_set_prediction = smoke_sess.run(prediction, feed_dict={xs: training_set_nparray})"
   ]
  },
  {
   "cell_type": "code",
   "execution_count": 17,
   "metadata": {
    "ExecuteTime": {
     "end_time": "2018-02-01T05:09:31.717888Z",
     "start_time": "2018-02-01T05:09:31.714853Z"
    }
   },
   "outputs": [],
   "source": [
    "training_set_prediction[training_set_prediction >= 0.5] = 1\n",
    "training_set_prediction[training_set_prediction < 0.5] = 0"
   ]
  },
  {
   "cell_type": "code",
   "execution_count": 18,
   "metadata": {
    "ExecuteTime": {
     "end_time": "2018-02-01T05:09:32.508436Z",
     "start_time": "2018-02-01T05:09:32.504510Z"
    }
   },
   "outputs": [],
   "source": [
    "training_set_prediction_positive = training_set_prediction[: 400]\n",
    "training_set_prediction_negative = training_set_prediction[400:]"
   ]
  },
  {
   "cell_type": "code",
   "execution_count": 19,
   "metadata": {
    "ExecuteTime": {
     "end_time": "2018-02-01T05:09:33.587073Z",
     "start_time": "2018-02-01T05:09:33.584215Z"
    }
   },
   "outputs": [
    {
     "name": "stdout",
     "output_type": "stream",
     "text": [
      "单隐层神经网络，训练集\n",
      "检验率： 0.94, 虚警率： 0.07\n"
     ]
    }
   ],
   "source": [
    "print('单隐层神经网络，训练集\\n检验率： {0}, 虚警率： {1}'.format(len(training_set_prediction_positive[training_set_prediction_positive == 1]) / len(training_set_prediction_positive), len(training_set_prediction_negative[training_set_prediction_negative == 1]) / len(training_set_prediction_negative)))"
   ]
  },
  {
   "cell_type": "markdown",
   "metadata": {},
   "source": [
    "### 在测试集上的结果"
   ]
  },
  {
   "cell_type": "code",
   "execution_count": 20,
   "metadata": {
    "ExecuteTime": {
     "end_time": "2018-02-01T05:09:37.069159Z",
     "start_time": "2018-02-01T05:09:34.771713Z"
    }
   },
   "outputs": [],
   "source": [
    "test_set = [np.reshape(cv2.cvtColor(cv2.resize(cv2.imread('test8/%06d.png' % i), (256, 256)), cv2.COLOR_BGR2GRAY), (1, 256 * 256)) for i in range(401, 501)]\n",
    "test_set.extend([np.reshape(cv2.cvtColor(cv2.resize(cv2.imread('test8/%06d.png' % i), (256, 256)), cv2.COLOR_BGR2GRAY), (1, 256 * 256)) for i in range(901, 1001)])"
   ]
  },
  {
   "cell_type": "code",
   "execution_count": 21,
   "metadata": {
    "ExecuteTime": {
     "end_time": "2018-02-01T05:09:37.679913Z",
     "start_time": "2018-02-01T05:09:37.672779Z"
    }
   },
   "outputs": [],
   "source": [
    "test_set_nparray = np.vstack(test_set)"
   ]
  },
  {
   "cell_type": "code",
   "execution_count": 22,
   "metadata": {
    "ExecuteTime": {
     "end_time": "2018-02-01T05:09:38.370028Z",
     "start_time": "2018-02-01T05:09:38.311747Z"
    }
   },
   "outputs": [],
   "source": [
    "test_set_prediction = smoke_sess.run(prediction, feed_dict={xs: test_set_nparray})"
   ]
  },
  {
   "cell_type": "code",
   "execution_count": 23,
   "metadata": {
    "ExecuteTime": {
     "end_time": "2018-02-01T05:09:38.810715Z",
     "start_time": "2018-02-01T05:09:38.807757Z"
    }
   },
   "outputs": [],
   "source": [
    "test_set_prediction[test_set_prediction >= 0.5] = 1\n",
    "test_set_prediction[test_set_prediction < 0.5] = 0\n",
    "test_set_prediction_positive = test_set_prediction[: 100]\n",
    "test_set_prediction_negative = test_set_prediction[100:]"
   ]
  },
  {
   "cell_type": "code",
   "execution_count": 24,
   "metadata": {
    "ExecuteTime": {
     "end_time": "2018-02-01T05:09:39.260257Z",
     "start_time": "2018-02-01T05:09:39.257052Z"
    }
   },
   "outputs": [
    {
     "name": "stdout",
     "output_type": "stream",
     "text": [
      "单隐层神经网络，测试集\n",
      "检验率： 0.93, 虚警率： 0.24\n"
     ]
    }
   ],
   "source": [
    "print('单隐层神经网络，测试集\\n检验率： {0}, 虚警率： {1}'.format(len(test_set_prediction_positive[test_set_prediction_positive == 1]) / len(test_set_prediction_positive), len(test_set_prediction_negative[test_set_prediction_negative == 1]) / len(test_set_prediction_negative)))"
   ]
  },
  {
   "cell_type": "markdown",
   "metadata": {},
   "source": [
    "## 提取深度特征结合SVM"
   ]
  },
  {
   "cell_type": "code",
   "execution_count": 25,
   "metadata": {
    "ExecuteTime": {
     "end_time": "2018-02-01T05:09:43.401795Z",
     "start_time": "2018-02-01T05:09:40.636637Z"
    }
   },
   "outputs": [],
   "source": [
    "from sklearn import svm"
   ]
  },
  {
   "cell_type": "code",
   "execution_count": 26,
   "metadata": {
    "ExecuteTime": {
     "end_time": "2018-02-01T05:09:43.629414Z",
     "start_time": "2018-02-01T05:09:43.627603Z"
    }
   },
   "outputs": [],
   "source": [
    "clf = svm.SVC()"
   ]
  },
  {
   "cell_type": "code",
   "execution_count": 27,
   "metadata": {
    "ExecuteTime": {
     "end_time": "2018-02-01T05:09:44.031075Z",
     "start_time": "2018-02-01T05:09:43.849891Z"
    }
   },
   "outputs": [],
   "source": [
    "trainging_set_deep_feature = smoke_sess.run(layer1, feed_dict={xs: training_set_nparray})"
   ]
  },
  {
   "cell_type": "code",
   "execution_count": 28,
   "metadata": {
    "ExecuteTime": {
     "end_time": "2018-02-01T05:09:44.851260Z",
     "start_time": "2018-02-01T05:09:44.256335Z"
    }
   },
   "outputs": [
    {
     "data": {
      "text/plain": [
       "SVC(C=1.0, cache_size=200, class_weight=None, coef0=0.0,\n",
       "  decision_function_shape='ovr', degree=3, gamma='auto', kernel='rbf',\n",
       "  max_iter=-1, probability=False, random_state=None, shrinking=True,\n",
       "  tol=0.001, verbose=False)"
      ]
     },
     "execution_count": 28,
     "metadata": {},
     "output_type": "execute_result"
    }
   ],
   "source": [
    "clf.fit(trainging_set_deep_feature, np.resize(training_label, (800, )))"
   ]
  },
  {
   "cell_type": "code",
   "execution_count": 29,
   "metadata": {
    "ExecuteTime": {
     "end_time": "2018-02-01T05:09:45.557412Z",
     "start_time": "2018-02-01T05:09:45.071817Z"
    }
   },
   "outputs": [],
   "source": [
    "training_set_deep_feature_svm_prediction = clf.predict(trainging_set_deep_feature)"
   ]
  },
  {
   "cell_type": "code",
   "execution_count": 30,
   "metadata": {
    "ExecuteTime": {
     "end_time": "2018-02-01T05:09:45.796271Z",
     "start_time": "2018-02-01T05:09:45.792866Z"
    }
   },
   "outputs": [],
   "source": [
    "training_set_deep_feature_svm_prediction[training_set_deep_feature_svm_prediction >= 0.5] = 1\n",
    "training_set_deep_feature_svm_prediction[training_set_deep_feature_svm_prediction < 0.5] = 0\n",
    "training_set_deep_feature_svm_prediction_positive = training_set_deep_feature_svm_prediction[: 400]\n",
    "training_set_deep_feature_svm_prediction_negative = training_set_deep_feature_svm_prediction[400:]"
   ]
  },
  {
   "cell_type": "code",
   "execution_count": 31,
   "metadata": {
    "ExecuteTime": {
     "end_time": "2018-02-01T05:09:46.147769Z",
     "start_time": "2018-02-01T05:09:46.071365Z"
    }
   },
   "outputs": [
    {
     "name": "stdout",
     "output_type": "stream",
     "text": [
      "深度特征+SVM，训练集\n",
      "检验率： 0.9025, 虚警率： 0.15\n"
     ]
    }
   ],
   "source": [
    "print('深度特征+SVM，训练集\\n检验率： {0}, 虚警率： {1}'.format(len(training_set_deep_feature_svm_prediction_positive[training_set_deep_feature_svm_prediction_positive == 1]) / len(training_set_deep_feature_svm_prediction_positive), len(training_set_deep_feature_svm_prediction_negative[training_set_deep_feature_svm_prediction_negative == 1]) / len(training_set_deep_feature_svm_prediction_negative)))"
   ]
  },
  {
   "cell_type": "code",
   "execution_count": 32,
   "metadata": {
    "ExecuteTime": {
     "end_time": "2018-02-01T05:09:47.095546Z",
     "start_time": "2018-02-01T05:09:47.038971Z"
    }
   },
   "outputs": [],
   "source": [
    "test_set_deep_feature = smoke_sess.run(layer1, feed_dict={xs: test_set_nparray})"
   ]
  },
  {
   "cell_type": "code",
   "execution_count": 33,
   "metadata": {
    "ExecuteTime": {
     "end_time": "2018-02-01T05:09:48.429975Z",
     "start_time": "2018-02-01T05:09:48.305110Z"
    }
   },
   "outputs": [],
   "source": [
    "test_set_deep_feature_svm_prediction = clf.predict(test_set_deep_feature)"
   ]
  },
  {
   "cell_type": "code",
   "execution_count": 34,
   "metadata": {
    "ExecuteTime": {
     "end_time": "2018-02-01T05:09:49.051242Z",
     "start_time": "2018-02-01T05:09:49.047967Z"
    }
   },
   "outputs": [],
   "source": [
    "test_set_deep_feature_svm_prediction[test_set_deep_feature_svm_prediction >= 0.5] = 1\n",
    "test_set_deep_feature_svm_prediction[test_set_deep_feature_svm_prediction < 0.5] = 0\n",
    "test_set_deep_feature_svm_prediction_positive = test_set_deep_feature_svm_prediction[: 100]\n",
    "test_set_deep_feature_svm_prediction_negative = test_set_deep_feature_svm_prediction[100:]"
   ]
  },
  {
   "cell_type": "code",
   "execution_count": 35,
   "metadata": {
    "ExecuteTime": {
     "end_time": "2018-02-01T05:09:49.646028Z",
     "start_time": "2018-02-01T05:09:49.641597Z"
    },
    "scrolled": true
   },
   "outputs": [
    {
     "name": "stdout",
     "output_type": "stream",
     "text": [
      "深度特征+SVM，测试集\n",
      "检验率： 0.91, 虚警率： 0.22\n"
     ]
    }
   ],
   "source": [
    "print('深度特征+SVM，测试集\\n检验率： {0}, 虚警率： {1}'.format(len(test_set_deep_feature_svm_prediction_positive[test_set_deep_feature_svm_prediction_positive == 1]) / len(test_set_deep_feature_svm_prediction_positive), len(test_set_deep_feature_svm_prediction_negative[test_set_deep_feature_svm_prediction_negative == 1]) / len(test_set_deep_feature_svm_prediction_negative)))"
   ]
  },
  {
   "cell_type": "code",
   "execution_count": null,
   "metadata": {},
   "outputs": [],
   "source": []
  }
 ],
 "metadata": {
  "kernelspec": {
   "display_name": "Python [conda root]",
   "language": "python",
   "name": "conda-root-py"
  },
  "language_info": {
   "codemirror_mode": {
    "name": "ipython",
    "version": 3
   },
   "file_extension": ".py",
   "mimetype": "text/x-python",
   "name": "python",
   "nbconvert_exporter": "python",
   "pygments_lexer": "ipython3",
   "version": "3.6.3"
  },
  "nbpresent": {
   "slides": {
    "1ebacd90-440d-48f1-9dcc-b527d1233433": {
     "id": "1ebacd90-440d-48f1-9dcc-b527d1233433",
     "prev": "f0916fdf-2982-408b-bb38-604734c64134",
     "regions": {
      "bc2e7aba-e06d-499b-9175-86469960a871": {
       "attrs": {
        "height": 0.8,
        "width": 0.8,
        "x": 0.1,
        "y": 0.1
       },
       "content": {
        "cell": "a49f0e91-20ca-4cc7-9b1d-c1847166d96a",
        "part": "whole"
       },
       "id": "bc2e7aba-e06d-499b-9175-86469960a871"
      }
     }
    },
    "2b0b0983-c679-42cf-ab5e-e814e86b0b48": {
     "id": "2b0b0983-c679-42cf-ab5e-e814e86b0b48",
     "prev": "ca820063-a105-4274-af61-2ec63a8d75f9",
     "regions": {
      "97d3056e-5ad9-421a-8d66-4791a4e42495": {
       "attrs": {
        "height": 0.8,
        "width": 0.8,
        "x": 0.1,
        "y": 0.1
       },
       "content": {
        "cell": "62c33fbd-145b-41a9-a977-5eafc6b2aed4",
        "part": "whole"
       },
       "id": "97d3056e-5ad9-421a-8d66-4791a4e42495"
      }
     }
    },
    "36291e9d-496c-455d-9d70-18f1ec7fa121": {
     "id": "36291e9d-496c-455d-9d70-18f1ec7fa121",
     "prev": "a298d5de-e3fb-4bfa-a98c-71daab061781",
     "regions": {
      "08783d10-8ca8-4777-b108-cc8003a4569c": {
       "attrs": {
        "height": 0.8,
        "width": 0.8,
        "x": 0.1,
        "y": 0.1
       },
       "content": {
        "cell": "d5ed983a-19ed-424b-9db7-5a46c19e0af4",
        "part": "whole"
       },
       "id": "08783d10-8ca8-4777-b108-cc8003a4569c"
      }
     }
    },
    "582ba0fc-ae48-4cea-b314-169391e865d2": {
     "id": "582ba0fc-ae48-4cea-b314-169391e865d2",
     "prev": "ee162010-e438-4ebe-98c2-5967e5142fac",
     "regions": {
      "2280d6aa-66e4-45dd-9699-e5f05a6bf654": {
       "attrs": {
        "height": 0.8,
        "width": 0.8,
        "x": 0.1,
        "y": 0.1
       },
       "content": {
        "cell": "5bb7ecd2-f00f-4c04-b7ad-ed441321523c",
        "part": "whole"
       },
       "id": "2280d6aa-66e4-45dd-9699-e5f05a6bf654"
      }
     }
    },
    "6b4369ad-4812-4f72-b424-79fbd94f608a": {
     "id": "6b4369ad-4812-4f72-b424-79fbd94f608a",
     "prev": "e4b5ad32-db30-452c-8e17-e8d134107e8e",
     "regions": {
      "53b2414c-63c8-439e-851e-a5621be12f5b": {
       "attrs": {
        "height": 0.8,
        "width": 0.8,
        "x": 0.1,
        "y": 0.1
       },
       "content": {
        "cell": "28b857a6-1507-4aa3-b102-d291e0748f76",
        "part": "whole"
       },
       "id": "53b2414c-63c8-439e-851e-a5621be12f5b"
      }
     }
    },
    "89de8b8f-984e-42d1-968f-514ec41c46b0": {
     "id": "89de8b8f-984e-42d1-968f-514ec41c46b0",
     "prev": "6b4369ad-4812-4f72-b424-79fbd94f608a",
     "regions": {
      "e23e9eb6-0169-4db0-863a-fb91acb117f4": {
       "attrs": {
        "height": 0.8,
        "width": 0.8,
        "x": 0.1,
        "y": 0.1
       },
       "content": {
        "cell": "d162a062-554a-4c5a-9e93-01a78a9f5710",
        "part": "whole"
       },
       "id": "e23e9eb6-0169-4db0-863a-fb91acb117f4"
      }
     }
    },
    "a298d5de-e3fb-4bfa-a98c-71daab061781": {
     "id": "a298d5de-e3fb-4bfa-a98c-71daab061781",
     "prev": "582ba0fc-ae48-4cea-b314-169391e865d2",
     "regions": {
      "7f17a1aa-6be9-461a-9353-367230f8e323": {
       "attrs": {
        "height": 0.8,
        "width": 0.8,
        "x": 0.1,
        "y": 0.1
       },
       "content": {
        "cell": "7e695e8f-90e7-4695-9b3e-8214afc58ac0",
        "part": "whole"
       },
       "id": "7f17a1aa-6be9-461a-9353-367230f8e323"
      }
     }
    },
    "ca820063-a105-4274-af61-2ec63a8d75f9": {
     "id": "ca820063-a105-4274-af61-2ec63a8d75f9",
     "prev": "cd141fc9-977f-47b7-b293-d9666848bcb3",
     "regions": {
      "01d8ff50-4cfb-4962-9791-2790c6944cd2": {
       "attrs": {
        "height": 0.8,
        "width": 0.8,
        "x": 0.1,
        "y": 0.1
       },
       "content": {
        "cell": "c6d09a75-7d70-46bd-8766-058385563b5d",
        "part": "whole"
       },
       "id": "01d8ff50-4cfb-4962-9791-2790c6944cd2"
      }
     }
    },
    "cd141fc9-977f-47b7-b293-d9666848bcb3": {
     "id": "cd141fc9-977f-47b7-b293-d9666848bcb3",
     "prev": null,
     "regions": {
      "330b3d31-a401-4352-91cc-0526c003d41c": {
       "attrs": {
        "height": 0.8,
        "width": 0.8,
        "x": 0.1,
        "y": 0.1
       },
       "content": {
        "cell": "35a12da4-0c55-40d8-b81a-55e8ac4ca4fd",
        "part": "whole"
       },
       "id": "330b3d31-a401-4352-91cc-0526c003d41c"
      }
     }
    },
    "d8517b82-b87a-491c-bf0a-5919241a61f5": {
     "id": "d8517b82-b87a-491c-bf0a-5919241a61f5",
     "prev": "1ebacd90-440d-48f1-9dcc-b527d1233433",
     "regions": {
      "86d47367-21f4-4941-9d27-bc8cf9c57398": {
       "attrs": {
        "height": 0.8,
        "width": 0.8,
        "x": 0.1,
        "y": 0.1
       },
       "content": {
        "cell": "0aeda3fb-3213-4aca-81d0-16a5463ce011",
        "part": "whole"
       },
       "id": "86d47367-21f4-4941-9d27-bc8cf9c57398"
      }
     }
    },
    "e4b5ad32-db30-452c-8e17-e8d134107e8e": {
     "id": "e4b5ad32-db30-452c-8e17-e8d134107e8e",
     "prev": "d8517b82-b87a-491c-bf0a-5919241a61f5",
     "regions": {
      "c2a01682-19b7-4d77-9865-36d0fc3d17b8": {
       "attrs": {
        "height": 0.8,
        "width": 0.8,
        "x": 0.1,
        "y": 0.1
       },
       "content": {
        "cell": "90a8e83d-c1de-4917-8510-4eccf6eb4c20",
        "part": "whole"
       },
       "id": "c2a01682-19b7-4d77-9865-36d0fc3d17b8"
      }
     }
    },
    "ee162010-e438-4ebe-98c2-5967e5142fac": {
     "id": "ee162010-e438-4ebe-98c2-5967e5142fac",
     "prev": "ff82fbf7-5989-4f88-802b-56d016808768",
     "regions": {
      "a39dea0b-6cce-4a7a-a8aa-aff648943905": {
       "attrs": {
        "height": 0.8,
        "width": 0.8,
        "x": 0.1,
        "y": 0.1
       },
       "content": {
        "cell": "d6710ce8-43df-459c-b9c3-7d4bcd29337f",
        "part": "whole"
       },
       "id": "a39dea0b-6cce-4a7a-a8aa-aff648943905"
      }
     }
    },
    "f0916fdf-2982-408b-bb38-604734c64134": {
     "id": "f0916fdf-2982-408b-bb38-604734c64134",
     "prev": "36291e9d-496c-455d-9d70-18f1ec7fa121",
     "regions": {
      "77483dc1-e0eb-4178-8ba8-e5a9fd2ce966": {
       "attrs": {
        "height": 0.8,
        "width": 0.8,
        "x": 0.1,
        "y": 0.1
       },
       "content": {
        "cell": "a2497bd6-b9cc-46d0-9c13-3b9cff10586a",
        "part": "whole"
       },
       "id": "77483dc1-e0eb-4178-8ba8-e5a9fd2ce966"
      }
     }
    },
    "ff82fbf7-5989-4f88-802b-56d016808768": {
     "id": "ff82fbf7-5989-4f88-802b-56d016808768",
     "prev": "2b0b0983-c679-42cf-ab5e-e814e86b0b48",
     "regions": {
      "9d792f9d-aa33-4448-bfca-41396e166278": {
       "attrs": {
        "height": 0.8,
        "width": 0.8,
        "x": 0.1,
        "y": 0.1
       },
       "content": {
        "cell": "917b1adc-6238-438f-9003-9347bf44f1a4",
        "part": "whole"
       },
       "id": "9d792f9d-aa33-4448-bfca-41396e166278"
      }
     }
    }
   },
   "themes": {}
  },
  "toc": {
   "nav_menu": {},
   "number_sections": true,
   "sideBar": true,
   "skip_h1_title": false,
   "toc_cell": false,
   "toc_position": {},
   "toc_section_display": "block",
   "toc_window_display": false
  },
  "varInspector": {
   "cols": {
    "lenName": 16,
    "lenType": 16,
    "lenVar": 40
   },
   "kernels_config": {
    "python": {
     "delete_cmd_postfix": "",
     "delete_cmd_prefix": "del ",
     "library": "var_list.py",
     "varRefreshCmd": "print(var_dic_list())"
    },
    "r": {
     "delete_cmd_postfix": ") ",
     "delete_cmd_prefix": "rm(",
     "library": "var_list.r",
     "varRefreshCmd": "cat(var_dic_list()) "
    }
   },
   "types_to_exclude": [
    "module",
    "function",
    "builtin_function_or_method",
    "instance",
    "_Feature"
   ],
   "window_display": false
  }
 },
 "nbformat": 4,
 "nbformat_minor": 2
}
